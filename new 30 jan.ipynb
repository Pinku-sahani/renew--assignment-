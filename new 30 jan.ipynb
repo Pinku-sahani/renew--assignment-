{
 "cells": [
  {
   "cell_type": "code",
   "execution_count": 1,
   "id": "1868319d-9503-4b72-8d3b-5105e57c8cef",
   "metadata": {},
   "outputs": [
    {
     "name": "stdin",
     "output_type": "stream",
     "text": [
      "enter you number to convert Grade 67\n"
     ]
    },
    {
     "name": "stdout",
     "output_type": "stream",
     "text": [
      "C Grade\n"
     ]
    }
   ],
   "source": [
    "# answer 1 \n",
    "marks = int(input(\"enter you number to convert Grade\"))\n",
    "if marks > 90 :\n",
    "    print(\"A Grade\")\n",
    "    \n",
    "elif marks >80 and marks <=90:\n",
    "        print(\"B Grade\")\n",
    "        \n",
    "elif marks >60 and marks <=80:\n",
    "        print(\"C Grade\")\n",
    "elif marks <60:\n",
    "        print(\"D grade\")"
   ]
  },
  {
   "cell_type": "code",
   "execution_count": 2,
   "id": "91e25dc4-5e09-48b7-9055-c02e3873c45a",
   "metadata": {},
   "outputs": [
    {
     "name": "stdin",
     "output_type": "stream",
     "text": [
      "enter price to find tax 1000000\n"
     ]
    },
    {
     "name": "stdout",
     "output_type": "stream",
     "text": [
      "15%\n"
     ]
    }
   ],
   "source": [
    "# answer -2 \n",
    "costprice = int(input(\"enter price to find tax\"))\n",
    "if costprice > 100000 :\n",
    "    print(\"15%\")\n",
    "    \n",
    "elif costprice >50000 and costprice <=100000:\n",
    "        print(\"10%\")\n",
    "        \n",
    "elif costprice <50000:\n",
    "        print(\"5%\")\n"
   ]
  },
  {
   "cell_type": "code",
   "execution_count": 3,
   "id": "87af0bf5-8417-4287-ada4-a31bc7949def",
   "metadata": {},
   "outputs": [
    {
     "name": "stdin",
     "output_type": "stream",
     "text": [
      "enter your city to display mountain Agra\n"
     ]
    },
    {
     "name": "stdout",
     "output_type": "stream",
     "text": [
      "Taj Mahal\n"
     ]
    }
   ],
   "source": [
    "# answer -3 \n",
    "\n",
    "city = input(\"enter your city to display mountain\")\n",
    "if city ==  'Delhi':\n",
    "    print(\"Red Fort\")\n",
    "    \n",
    "elif city == 'Agra':\n",
    "        print(\"Taj Mahal\")\n",
    "        \n",
    "elif city == 'Jaypur':\n",
    "        print(\"Jay Mahal\")\n"
   ]
  },
  {
   "cell_type": "code",
   "execution_count": 5,
   "id": "c3ca0e50-4b22-49b0-9891-e65a85e28531",
   "metadata": {},
   "outputs": [
    {
     "name": "stdin",
     "output_type": "stream",
     "text": [
      "enter any number 9\n"
     ]
    },
    {
     "data": {
      "text/plain": [
       "1"
      ]
     },
     "execution_count": 5,
     "metadata": {},
     "output_type": "execute_result"
    }
   ],
   "source": [
    "# answer - 4\n",
    "num = int(input(\"enter any number\"))\n",
    "count = 0\n",
    "if num % 3 == 0:\n",
    "    count = count +1\n",
    "count\n",
    "    \n",
    "    \n",
    "    "
   ]
  },
  {
   "cell_type": "code",
   "execution_count": 6,
   "id": "95565eeb-33dc-40b8-b73e-1a8bad958d07",
   "metadata": {},
   "outputs": [
    {
     "name": "stdin",
     "output_type": "stream",
     "text": [
      "enter number to so the data 1001\n"
     ]
    },
    {
     "name": "stdout",
     "output_type": "stream",
     "text": [
      "my name is ......., i belong to ........., i have just completed the .........,i have join ........\n"
     ]
    }
   ],
   "source": [
    "# answer - 5\n",
    "\n",
    "# while loop is the use of before check condition then execute the program\n",
    "# suppose i have a example (if n = 1001 then print this data (my name is .......,\n",
    "# i belong to ........., i have just completed the .........,i have join ........))\n",
    "# so program exceute \n",
    "\n",
    "n = int(input(\"enter number to so the data\"))\n",
    "my_data = \"my name is ......., i belong to ........., i have just completed the .........,i have join ........\"\n",
    "if n == 1001:\n",
    "    print(my_data)\n",
    "else:\n",
    "    print(\"wrong!\")"
   ]
  },
  {
   "cell_type": "code",
   "execution_count": null,
   "id": "cad985ad-4502-4a73-b165-0c572291c971",
   "metadata": {},
   "outputs": [],
   "source": [
    "# answer - 6\n",
    "# i have to understand this program \n",
    "num=int(input(\"enter any number to diffrent diffrent pattern\"))\n",
    "while num  == 10:\n",
    "    print(\"* * * * * HII * * * * *\")\n",
    "while num == 101:\n",
    "    print(\"$ $ $ $ $ HII $ $ $ $ $\")\n",
    "while num == 1001:\n",
    "    \n",
    "    print(\"@ @ @ @ @ HII @ @ @ @ @\")"
   ]
  },
  {
   "cell_type": "code",
   "execution_count": 8,
   "id": "133336d5-7aac-4d17-a125-2febf332b75d",
   "metadata": {},
   "outputs": [
    {
     "name": "stdout",
     "output_type": "stream",
     "text": [
      "Reversed Number: 123456789\n"
     ]
    }
   ],
   "source": [
    "# answer 7\n",
    "num = 987654321\n",
    "reversed_num = 0\n",
    "\n",
    "while num != 0:\n",
    "    digit = num % 10\n",
    "    reversed_num = reversed_num * 10 + digit\n",
    "    num //= 10\n",
    "\n",
    "print(\"Reversed Number: \" + str(reversed_num))"
   ]
  },
  {
   "cell_type": "code",
   "execution_count": null,
   "id": "021b25b9-fd0d-45d4-803d-3c1899139ddc",
   "metadata": {},
   "outputs": [],
   "source": []
  }
 ],
 "metadata": {
  "kernelspec": {
   "display_name": "Python 3 (ipykernel)",
   "language": "python",
   "name": "python3"
  },
  "language_info": {
   "codemirror_mode": {
    "name": "ipython",
    "version": 3
   },
   "file_extension": ".py",
   "mimetype": "text/x-python",
   "name": "python",
   "nbconvert_exporter": "python",
   "pygments_lexer": "ipython3",
   "version": "3.10.8"
  }
 },
 "nbformat": 4,
 "nbformat_minor": 5
}
